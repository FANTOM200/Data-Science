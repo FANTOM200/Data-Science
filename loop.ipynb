{
 "cells": [
  {
   "cell_type": "code",
   "execution_count": 1,
   "id": "610a24f4",
   "metadata": {},
   "outputs": [
    {
     "name": "stdout",
     "output_type": "stream",
     "text": [
      "Hello\n"
     ]
    }
   ],
   "source": [
    "print(\"Hello\")"
   ]
  },
  {
   "cell_type": "code",
   "execution_count": 2,
   "id": "f40b09c2",
   "metadata": {},
   "outputs": [
    {
     "name": "stdout",
     "output_type": "stream",
     "text": [
      "Enter a number=5\n",
      "1\n",
      "2\n",
      "3\n",
      "4\n",
      "5\n",
      "Hello\n"
     ]
    }
   ],
   "source": [
    "n=int(input('Enter a number='))\n",
    "i=1\n",
    "while n>=i:\n",
    "    print(i)\n",
    "    i=i+1\n",
    "    if i==7:\n",
    "     break\n",
    "else:\n",
    "    print(\"Hello\")"
   ]
  },
  {
   "cell_type": "code",
   "execution_count": 4,
   "id": "7bef3f58",
   "metadata": {},
   "outputs": [
    {
     "name": "stdout",
     "output_type": "stream",
     "text": [
      "1\n",
      "2\n",
      "3\n",
      "4.5\n",
      "10\n",
      "Dhruv\n",
      "is\n",
      "Best\n",
      "True\n"
     ]
    }
   ],
   "source": [
    "l=[1,2,3,4.5,10,\"Dhruv\",\"is\",\"Best\",True]\n",
    "for i in l:\n",
    "    print(i)"
   ]
  },
  {
   "cell_type": "code",
   "execution_count": 3,
   "id": "1997d6f6",
   "metadata": {},
   "outputs": [
    {
     "name": "stdout",
     "output_type": "stream",
     "text": [
      "Enter A=12\n",
      "Enter B=5\n",
      "Not purely divisible\n"
     ]
    }
   ],
   "source": [
    "A=int(input(\"Enter A=\"))\n",
    "B=int(input(\"Enter B=\"))\n",
    "count=0\n",
    "i=0\n",
    "while A!=0:\n",
    "    if A%B==0:\n",
    "        i=i+1\n",
    "        A=A/B\n",
    "    else:\n",
    "        count=count+1\n",
    "        A=A/B\n",
    "        \n",
    "if count>=1:\n",
    "    print(\"Not purely divisible\")\n",
    "else:\n",
    "    print(\"Purely Div and no of times div=\",i)\n",
    "    "
   ]
  },
  {
   "cell_type": "code",
   "execution_count": 20,
   "id": "281d148c",
   "metadata": {},
   "outputs": [],
   "source": [
    "l=[1,2,3,4,5,6,7,8]\n",
    "for i in l:\n",
    "    c=i%3\n",
    "if c==0:\n",
    "    print(i)"
   ]
  },
  {
   "cell_type": "code",
   "execution_count": null,
   "id": "cfe020cf",
   "metadata": {},
   "outputs": [],
   "source": []
  },
  {
   "cell_type": "code",
   "execution_count": null,
   "id": "5ce363c2",
   "metadata": {},
   "outputs": [],
   "source": []
  }
 ],
 "metadata": {
  "kernelspec": {
   "display_name": "Python 3 (ipykernel)",
   "language": "python",
   "name": "python3"
  },
  "language_info": {
   "codemirror_mode": {
    "name": "ipython",
    "version": 3
   },
   "file_extension": ".py",
   "mimetype": "text/x-python",
   "name": "python",
   "nbconvert_exporter": "python",
   "pygments_lexer": "ipython3",
   "version": "3.9.12"
  }
 },
 "nbformat": 4,
 "nbformat_minor": 5
}
