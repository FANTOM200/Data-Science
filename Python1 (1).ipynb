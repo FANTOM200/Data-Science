{
 "cells": [
  {
   "cell_type": "code",
   "execution_count": null,
   "id": "68ad3b15-9b4c-42c7-9c67-af3576c9b2d3",
   "metadata": {},
   "outputs": [],
   "source": [
    "name=\"Dhruv Shandilya\"\n",
    "age=20\n",
    "degree=\"B.tec\"\n",
    "print(\"My age is {a} and I have compleated my {d} with name {n}\".format(a=age,n=name,d=degree))"
   ]
  },
  {
   "cell_type": "code",
   "execution_count": null,
   "id": "4ed0ad1d-2cc2-4674-b29e-f35bc84f7083",
   "metadata": {},
   "outputs": [],
   "source": [
    "name=\"Dhruv Shandilya\"\n",
    "age=20\n",
    "degree=\"B.tec\"\n",
    "print(f\"My age is {age} and I have compleated my {degree} with name {name}\")"
   ]
  },
  {
   "cell_type": "code",
   "execution_count": null,
   "id": "1110cc13-66fe-4650-a2a2-1751610c450b",
   "metadata": {},
   "outputs": [],
   "source": [
    "age=int(input(\"Enter your age=\"))\n",
    "if age>=18 and age<45:\n",
    "    print(\"You are young blood\")"
   ]
  },
  {
   "cell_type": "code",
   "execution_count": null,
   "id": "ad6bfd2f-716d-4c80-ae0f-7e061bf5bd54",
   "metadata": {},
   "outputs": [],
   "source": [
    "price=int(input(\"Enter the product price=\"))\n",
    "if price>1000:\n",
    "    price=price-(price*20/100)\n",
    "    print(\"Price of product after 20% off={}\".format(price))\n",
    "else:\n",
    "    price=price-(price*20/100)\n",
    "    print(\"Price of product after 30% off={}\".format(price))\n",
    "     "
   ]
  },
  {
   "cell_type": "code",
   "execution_count": null,
   "id": "aa6f39f9-9eff-4796-af65-17af13c11580",
   "metadata": {},
   "outputs": [],
   "source": [
    "price=int(input(\"Enter the product price=\"))\n",
    "if price>3000:\n",
    "    price=price-(price*20/100)\n",
    "    print(\"Price of product after 20% off={}\".format(price))\n",
    "elif price>=2000 and price<3000:\n",
    "    price=price-(price*20/100)\n",
    "    print(\"Price of product after 30% off={}\".format(price))\n",
    "elif price>=1000 and price<2000:\n",
    "     price=price-(price*20/100)\n",
    "     print(\"price of product after discount={}\".format(price))\n",
    "     "
   ]
  }
 ],
 "metadata": {
  "kernelspec": {
   "display_name": "Python 3 (ipykernel)",
   "language": "python",
   "name": "python3"
  },
  "language_info": {
   "codemirror_mode": {
    "name": "ipython",
    "version": 3
   },
   "file_extension": ".py",
   "mimetype": "text/x-python",
   "name": "python",
   "nbconvert_exporter": "python",
   "pygments_lexer": "ipython3",
   "version": "3.10.8"
  }
 },
 "nbformat": 4,
 "nbformat_minor": 5
}
